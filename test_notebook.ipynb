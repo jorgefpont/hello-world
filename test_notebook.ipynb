{
  "nbformat": 4,
  "nbformat_minor": 0,
  "metadata": {
    "colab": {
      "name": "test_notebook.ipynb",
      "version": "0.3.2",
      "provenance": [],
      "collapsed_sections": [],
      "include_colab_link": true
    },
    "kernelspec": {
      "name": "python3",
      "display_name": "Python 3"
    }
  },
  "cells": [
    {
      "cell_type": "markdown",
      "metadata": {
        "id": "view-in-github",
        "colab_type": "text"
      },
      "source": [
        "<a href=\"https://colab.research.google.com/github/jorgefpont/hello-world/blob/master/test_notebook.ipynb\" target=\"_parent\"><img src=\"https://colab.research.google.com/assets/colab-badge.svg\" alt=\"Open In Colab\"/></a>"
      ]
    },
    {
      "metadata": {
        "id": "ME9IXw35zQ_z",
        "colab_type": "text"
      },
      "cell_type": "markdown",
      "source": [
        "This is a test"
      ]
    },
    {
      "metadata": {
        "id": "KJIhYviczPm0",
        "colab_type": "code",
        "outputId": "148486f5-d72a-4aa0-a29d-6bba079c60c9",
        "colab": {
          "base_uri": "https://localhost:8080/",
          "height": 34
        }
      },
      "cell_type": "code",
      "source": [
        "print(\"hello world!\")"
      ],
      "execution_count": 0,
      "outputs": [
        {
          "output_type": "stream",
          "text": [
            "hello world!\n"
          ],
          "name": "stdout"
        }
      ]
    },
    {
      "metadata": {
        "id": "JImhJu4KzmRq",
        "colab_type": "code",
        "outputId": "e890d88d-daf7-495c-918c-01957fd1638e",
        "colab": {
          "base_uri": "https://localhost:8080/",
          "height": 204
        }
      },
      "cell_type": "code",
      "source": [
        "import numpy as np\n",
        "import pprint as pp\n",
        "\n",
        "a = np.array([[1,2],[3,4],[6,6]])\n",
        "b = np.array([[5],[10]])\n",
        "c = np.dot(a,b)\n",
        "print(\"a = \\n\",a)\n",
        "print(\"b = \\n\",b)\n",
        "print(\"c = \\n\",c)"
      ],
      "execution_count": 4,
      "outputs": [
        {
          "output_type": "stream",
          "text": [
            "a = \n",
            " [[1 2]\n",
            " [3 4]\n",
            " [6 6]]\n",
            "b = \n",
            " [[ 5]\n",
            " [10]]\n",
            "c = \n",
            " [[25]\n",
            " [55]\n",
            " [90]]\n"
          ],
          "name": "stdout"
        }
      ]
    },
    {
      "metadata": {
        "id": "J27pIz1si3ZD",
        "colab_type": "code",
        "colab": {
          "base_uri": "https://localhost:8080/",
          "height": 238
        },
        "outputId": "4c35f058-059b-4110-b0de-2f957535039e"
      },
      "cell_type": "code",
      "source": [
        "z=np.zeros([3,4])\n",
        "o=np.ones([4,3])\n",
        "r=np.random.random_sample([3,4])\n",
        "r=np.add(r, -0.5)\n",
        "r=np.divide(r, 100)\n",
        "print(\"zeros = \\n\", z)\n",
        "print(\"ones = \\n\", o)\n",
        "print(\"rand = \\n\", r)"
      ],
      "execution_count": 16,
      "outputs": [
        {
          "output_type": "stream",
          "text": [
            "zeros = \n",
            " [[0. 0. 0. 0.]\n",
            " [0. 0. 0. 0.]\n",
            " [0. 0. 0. 0.]]\n",
            "ones = \n",
            " [[1. 1. 1.]\n",
            " [1. 1. 1.]\n",
            " [1. 1. 1.]\n",
            " [1. 1. 1.]]\n",
            "rand = \n",
            " [[ 4.58625507e-03  1.38169422e-03  1.16565811e-03 -3.71196284e-03]\n",
            " [ 8.40611161e-04 -4.65585556e-04  6.75057575e-04  1.72365505e-03]\n",
            " [-1.92257918e-04 -9.97193426e-05 -2.18683373e-03 -2.46519792e-03]]\n"
          ],
          "name": "stdout"
        }
      ]
    }
  ]
}